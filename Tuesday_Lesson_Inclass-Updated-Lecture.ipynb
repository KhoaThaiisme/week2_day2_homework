{
 "cells": [
  {
   "cell_type": "markdown",
   "metadata": {},
   "source": [
    "# Functions, Scoping, Data Collections 1 & List Comprehensions"
   ]
  },
  {
   "cell_type": "markdown",
   "metadata": {},
   "source": [
    "## Tasks Today:\n",
    "\n",
    "<i>Monday Additions (or, and ... if statements)</i>\n",
    "\n",
    "1) String Manipulation <br>\n",
    " &nbsp;&nbsp;&nbsp;&nbsp; a) strip() <br>\n",
    " &nbsp;&nbsp;&nbsp;&nbsp; b) title() <br>\n",
    "2) Working With Lists <br>\n",
    " &nbsp;&nbsp;&nbsp;&nbsp; a) min() <br>\n",
    " &nbsp;&nbsp;&nbsp;&nbsp; b) max() <br>\n",
    " &nbsp;&nbsp;&nbsp;&nbsp; c) sum() <br>\n",
    " &nbsp;&nbsp;&nbsp;&nbsp; d) sort() <br>\n",
    " &nbsp;&nbsp;&nbsp;&nbsp; e) Copying a List <br>\n",
    " &nbsp;&nbsp;&nbsp;&nbsp; f) 'in' keyword <br>\n",
    " &nbsp;&nbsp;&nbsp;&nbsp; g) 'not in' keyword <br>\n",
    " &nbsp;&nbsp;&nbsp;&nbsp; i) Checking an Empty List <br>\n",
    " &nbsp;&nbsp;&nbsp;&nbsp; j) Removing Instances with a Loop <br>\n",
    "3) List Comprehensions <br>\n",
    "4) Tuples <br>\n",
    " &nbsp;&nbsp;&nbsp;&nbsp; a) sorted() <br>\n",
    "5) Functions <br>\n",
    " &nbsp;&nbsp;&nbsp;&nbsp; a) User-Defined vs. Built-In Functions <br>\n",
    " &nbsp;&nbsp;&nbsp;&nbsp; b) Accepting Parameters <br>\n",
    " &nbsp;&nbsp;&nbsp;&nbsp; c) Default Parameters <br>\n",
    " &nbsp;&nbsp;&nbsp;&nbsp; d) Making an Argument Optional <br>\n",
    " &nbsp;&nbsp;&nbsp;&nbsp; e) Keyword Arguments <br>\n",
    " &nbsp;&nbsp;&nbsp;&nbsp; f) Returning Values <br>\n",
    " &nbsp;&nbsp;&nbsp;&nbsp; g) *args <br>\n",
    " &nbsp;&nbsp;&nbsp;&nbsp; h) Docstring <br>\n",
    " &nbsp;&nbsp;&nbsp;&nbsp; i) Using a User Function in a Loop <br>\n",
    "6) Scope"
   ]
  },
  {
   "cell_type": "markdown",
   "metadata": {},
   "source": [
    "### String Manipulation"
   ]
  },
  {
   "cell_type": "markdown",
   "metadata": {},
   "source": [
    "##### .lstrip()"
   ]
  },
  {
   "cell_type": "code",
   "execution_count": 4,
   "metadata": {},
   "outputs": [
    {
     "name": "stdout",
     "output_type": "stream",
     "text": [
      "khoa thai\n",
      "oa thai\n"
     ]
    }
   ],
   "source": [
    "# string.lstrip()\n",
    "my_name = '      khoa thai'\n",
    "my_name = my_name.lstrip()\n",
    "print(my_name)\n",
    "# order doesn't matter\n",
    "print(my_name.lstrip('hk'))"
   ]
  },
  {
   "cell_type": "markdown",
   "metadata": {},
   "source": [
    "##### .rstrip()"
   ]
  },
  {
   "cell_type": "code",
   "execution_count": 5,
   "metadata": {},
   "outputs": [
    {
     "name": "stdout",
     "output_type": "stream",
     "text": [
      "sean currie     \n"
     ]
    }
   ],
   "source": [
    "# string.rstrip()\n",
    "# see above but right side\n",
    "\n",
    "anther_name = 'sean currie     sr'\n",
    "another_name = anther_name.rstrip('sr')\n",
    "\n",
    "print(another_name)"
   ]
  },
  {
   "cell_type": "markdown",
   "metadata": {},
   "source": [
    "##### .strip()"
   ]
  },
  {
   "cell_type": "code",
   "execution_count": 9,
   "metadata": {},
   "outputs": [
    {
     "name": "stdout",
     "output_type": "stream",
     "text": [
      "neo anderson\n"
     ]
    }
   ],
   "source": [
    "# string.strip()\n",
    "new_string = '        xy neo anderson   xy '\n",
    "\n",
    "new_string = new_string.strip(' xy ')\n",
    "print(new_string)\n"
   ]
  },
  {
   "cell_type": "markdown",
   "metadata": {},
   "source": [
    "##### .title()"
   ]
  },
  {
   "cell_type": "code",
   "execution_count": 12,
   "metadata": {},
   "outputs": [
    {
     "name": "stdout",
     "output_type": "stream",
     "text": [
      "khoa thai\n"
     ]
    },
    {
     "data": {
      "text/plain": [
       "'quit'"
      ]
     },
     "execution_count": 12,
     "metadata": {},
     "output_type": "execute_result"
    }
   ],
   "source": [
    "# string.title()\n",
    "print(my_name)\n",
    "'khoa thai'.title()\n",
    "\n",
    "'Quit'.lower()"
   ]
  },
  {
   "cell_type": "markdown",
   "metadata": {},
   "source": [
    "### String Exercise <br>\n",
    "<p>Strip all white space and capitalize every name in the list given</p>"
   ]
  },
  {
   "cell_type": "code",
   "execution_count": 40,
   "metadata": {},
   "outputs": [
    {
     "name": "stdout",
     "output_type": "stream",
     "text": [
      "['Connor', 'Max', 'Evan', 'Jordan']\n",
      "['Connor', 'Max', 'Evan', 'Jordan']\n",
      "['Connor', 'Max', 'Evan', 'Jordan']\n"
     ]
    }
   ],
   "source": [
    "names = ['    coNNor', 'max', ' EVan ', 'JORDAN']\n",
    "# HINT: You will need to use a for loop for iteration\n",
    "\n",
    "# def stripping(names):\n",
    "new_names = []\n",
    "for n in names:\n",
    "    n =  n.strip(' ').title()\n",
    "    new_names.append(n)\n",
    "print(new_names)\n",
    "\n",
    "for i in range(len(names)):\n",
    "    names[i] = names[i].strip(' ').title()\n",
    "print(names)\n",
    "\n",
    "names3 = [names[i].strip().title() for i in range(len(names))]\n",
    "print(names3)"
   ]
  },
  {
   "cell_type": "code",
   "execution_count": 41,
   "metadata": {},
   "outputs": [
    {
     "name": "stdout",
     "output_type": "stream",
     "text": [
      "ohn Smith \n",
      "['John', 'Jr']\n"
     ]
    }
   ],
   "source": [
    "print('John Smith Jr'.strip('Jr'))\n",
    "\n",
    "name = 'John Smith Jr'\n",
    "name = name.split()\n",
    "name.pop(1)\n",
    "print(name)"
   ]
  },
  {
   "cell_type": "markdown",
   "metadata": {},
   "source": [
    "### Working With Lists"
   ]
  },
  {
   "cell_type": "markdown",
   "metadata": {},
   "source": [
    "##### min()"
   ]
  },
  {
   "cell_type": "code",
   "execution_count": 4,
   "metadata": {},
   "outputs": [
    {
     "name": "stdout",
     "output_type": "stream",
     "text": [
      "1\n",
      "Z a\n"
     ]
    }
   ],
   "source": [
    "# min(list)\n",
    "my_list = [100,1,6,19]\n",
    "print(min(my_list))\n",
    "\n",
    "\n",
    "list1 = min(['z', 'y', 'w', 'Z'])\n",
    "list2 = min(['z', 'y', 'w', 'a'])\n",
    "print(list1, list2)"
   ]
  },
  {
   "cell_type": "markdown",
   "metadata": {},
   "source": [
    "##### max()"
   ]
  },
  {
   "cell_type": "code",
   "execution_count": 46,
   "metadata": {},
   "outputs": [
    {
     "name": "stdout",
     "output_type": "stream",
     "text": [
      "100\n"
     ]
    }
   ],
   "source": [
    "# max(list)\n",
    "# return largest value\n",
    "\n",
    "print(max(my_list))"
   ]
  },
  {
   "cell_type": "markdown",
   "metadata": {},
   "source": [
    "##### sum()"
   ]
  },
  {
   "cell_type": "code",
   "execution_count": 50,
   "metadata": {},
   "outputs": [
    {
     "name": "stdout",
     "output_type": "stream",
     "text": [
      "126\n"
     ]
    }
   ],
   "source": [
    "# sum(list)\n",
    "print(sum(my_list))\n"
   ]
  },
  {
   "cell_type": "markdown",
   "metadata": {},
   "source": [
    "##### sorted()"
   ]
  },
  {
   "cell_type": "code",
   "execution_count": 53,
   "metadata": {},
   "outputs": [
    {
     "name": "stdout",
     "output_type": "stream",
     "text": [
      "[1, 3, 4, 12]\n",
      "[3, 4, 1, 12]\n"
     ]
    }
   ],
   "source": [
    "# sorted(list)\n",
    "# function works on many data types\n",
    "# return a sorted LIST\n",
    "sorted([2,4,1,100,5])\n",
    "\n",
    "sorted(['z', 'A', 'X', 'B'])\n",
    "sorted('zyx')\n",
    "\n",
    "num_list = [3,4,1,12]\n",
    "\n",
    "print(sorted(num_list))\n",
    "\n",
    "print(num_list)"
   ]
  },
  {
   "cell_type": "markdown",
   "metadata": {},
   "source": [
    "##### .sort() <br>\n",
    "<p>Difference between sort and sorted, is that sorted doesn't change original list it returns a copy, while .sort changes the original list</p>"
   ]
  },
  {
   "cell_type": "code",
   "execution_count": 58,
   "metadata": {},
   "outputs": [
    {
     "name": "stdout",
     "output_type": "stream",
     "text": [
      "[1, 3, 4, 12]\n",
      "[1, 3, 4, 12]\n",
      "None\n",
      "[1, 2, 3, 8]\n"
     ]
    }
   ],
   "source": [
    "# list.sort()\n",
    "# method\n",
    "# sorts a list\n",
    "print(num_list)\n",
    "num_list.sort()\n",
    "\n",
    "print(num_list)\n",
    "# attributeError\n",
    "# 'zyx'.sort()\n",
    "\n",
    "num_list2 = [2,3,1,8]\n",
    "num_list2.sort()\n",
    "print([2, 34].sort())\n",
    "print(num_list2)\n",
    "\n",
    "# use sorted when you don't want to alter original list, use .sort() when you want to alter original list"
   ]
  },
  {
   "cell_type": "markdown",
   "metadata": {},
   "source": [
    "##### Copying a List"
   ]
  },
  {
   "cell_type": "code",
   "execution_count": 12,
   "metadata": {},
   "outputs": [
    {
     "name": "stdout",
     "output_type": "stream",
     "text": [
      "[100000000, 1, 1296, 19]\n",
      "[100000000, 1, 1296, 19]\n",
      "[10000000000000000, 1, 1679616, 19]\n",
      "[100000000, 1, 1296, 19]\n"
     ]
    }
   ],
   "source": [
    "# [:] copies a list, doesn't alter original\n",
    "# slice of a list\n",
    "\n",
    "print(my_list)\n",
    "\n",
    "new_copy = my_list[::]\n",
    "print(new_copy)\n",
    "# not modifying og list\n",
    "for i in range(len(new_copy)):\n",
    "    if i % 2 == 0:\n",
    "        new_copy[i] = new_copy[i]**2\n",
    "print(new_copy)\n",
    "print(my_list)\n",
    "\n",
    "#[start:stop:step] defaults [0:len(list):1]"
   ]
  },
  {
   "cell_type": "code",
   "execution_count": 15,
   "metadata": {},
   "outputs": [
    {
     "data": {
      "text/plain": [
       "['blue', 'red', 'purple']"
      ]
     },
     "execution_count": 15,
     "metadata": {},
     "output_type": "execute_result"
    }
   ],
   "source": [
    "colors = ['blue', 'red', 'purple', 'indigo']\n",
    "# starts 1 goes to end and every other\n",
    "colors[1::2]\n",
    "# copy list backwards\n",
    "colors[::-1]\n",
    "# every element except last\n",
    "colors[:-1]\n"
   ]
  },
  {
   "cell_type": "code",
   "execution_count": null,
   "metadata": {},
   "outputs": [],
   "source": [
    "# Showing benefit of a copy\n",
    "print(my_list)\n",
    "\n",
    "# pointing at the exact list in memory\n",
    "copy_my_list = my_list\n",
    "\n",
    "print(copy_my_list)\n",
    "\n",
    "for i in range(len(copy_my_list)):\n",
    "    if i % 2 == 0:\n",
    "#        altering copy and og list\n",
    "        copy_my_list[i] = copy_my_list[i]**2\n",
    "print(copy_my_list)\n",
    "\n",
    "print(my_list)"
   ]
  },
  {
   "cell_type": "markdown",
   "metadata": {},
   "source": [
    "##### 'in' keyword"
   ]
  },
  {
   "cell_type": "code",
   "execution_count": 19,
   "metadata": {},
   "outputs": [
    {
     "name": "stdout",
     "output_type": "stream",
     "text": [
      "True\n",
      "False\n",
      "True\n",
      "['blue', 'red', 'purple', 'indigo', 'pink']\n"
     ]
    }
   ],
   "source": [
    "# membership check returns boolean statement\n",
    "print('indigo' in colors)\n",
    "\n",
    "print('indigo' not in colors)\n",
    "\n",
    "print('pink' not in colors)\n",
    "\n",
    "if 'pink' not in colors:\n",
    "    colors.append('pink')\n",
    "    \n",
    "print(colors)\n",
    "# returns false skips action\n",
    "if 'purple' not in colors:\n",
    "    print('purple not in colors')"
   ]
  },
  {
   "cell_type": "markdown",
   "metadata": {},
   "source": [
    "##### 'not in' keyword"
   ]
  },
  {
   "cell_type": "code",
   "execution_count": null,
   "metadata": {},
   "outputs": [],
   "source": [
    "# see above"
   ]
  },
  {
   "cell_type": "markdown",
   "metadata": {},
   "source": [
    "##### Checking an Empty List"
   ]
  },
  {
   "cell_type": "code",
   "execution_count": 26,
   "metadata": {},
   "outputs": [
    {
     "name": "stdout",
     "output_type": "stream",
     "text": [
      "l_1 is empty\n",
      "empty list\n",
      "empty list with not keyboard\n",
      "l_2 isnt empty\n",
      "string is empty\n"
     ]
    }
   ],
   "source": [
    "# if l_1: or if l_1 = []\n",
    "\n",
    "l_1 = []\n",
    "\n",
    "if l_1 == []:\n",
    "    print('l_1 is empty')\n",
    "    \n",
    "if l_1:\n",
    "    print('Not empty')\n",
    "else:\n",
    "    print('empty list')\n",
    "    \n",
    "if not l_1:\n",
    "    print('empty list with not keyboard')\n",
    "# returns true with more than 0 elements   \n",
    "l_2 = ['anything']\n",
    "\n",
    "if l_2:\n",
    "    print('l_2 isnt empty')\n",
    "    \n",
    "empty_string = ''\n",
    "\n",
    "# returns true with not empty string\n",
    "if not empty_string:\n",
    "    print('string is empty')"
   ]
  },
  {
   "cell_type": "markdown",
   "metadata": {},
   "source": [
    "## Removing Instances with a Loop"
   ]
  },
  {
   "cell_type": "code",
   "execution_count": 36,
   "metadata": {},
   "outputs": [
    {
     "name": "stdout",
     "output_type": "stream",
     "text": [
      "enter while loop\n",
      "['sean', 'dylan', 'dylan', 'alex', 'alex', 'ryan', 'brendan']\n",
      "enter while loop\n",
      "['sean', 'dylan', 'alex', 'alex', 'ryan', 'brendan']\n",
      "['sean', 'alex', 'alex', 'ryan', 'brendan']\n"
     ]
    }
   ],
   "source": [
    "# while, remove\n",
    "\n",
    "instructors = ['sean', 'dylan', 'dylan', 'alex', 'alex', 'ryan', 'brendan']\n",
    "\n",
    "while 'dylan' in instructors:\n",
    "    print('enter while loop')\n",
    "    print(instructors)\n",
    "    instructors.remove('dylan')\n",
    "print(instructors)"
   ]
  },
  {
   "cell_type": "markdown",
   "metadata": {},
   "source": [
    "### List Exercise <br>\n",
    "<p>Remove all duplicates<br><b>Extra: Create a program that will remove any duplicates from a given list</b></p>"
   ]
  },
  {
   "cell_type": "code",
   "execution_count": 47,
   "metadata": {},
   "outputs": [
    {
     "name": "stdout",
     "output_type": "stream",
     "text": [
      "['connor']\n",
      "['connor', 'bob']\n",
      "['connor', 'bob', 'evan']\n",
      "['connor', 'bob', 'evan', 'max']\n",
      "['connor', 'bob', 'evan', 'max', 2]\n",
      "['connor', 'bob', 'evan', 'max', 2, 3]\n",
      "['connor', 'bob', 'evan', 'max', 2, 3, 4]\n",
      "['connor', 'bob', 'evan', 'max', 2, 3, 4, 'kevin']\n"
     ]
    }
   ],
   "source": [
    "names = ['connor', 'connor', 'bob', 'connor', 'evan', 'max', 'evan', 2, 2, 2, 3, 3, 4, 'bob', 'kevin']\n",
    "# Hint 1: You will need an append\n",
    "# Hint 2: Using an empty list will make life easier\n",
    "\n",
    "re_names = []\n",
    "# for i in range(len(names)):\n",
    "#     for r in range(len(names), -1, -1):\n",
    "#         if names[i] == names[r]:\n",
    "#             continue\n",
    "#         else:\n",
    "#             re_names.append(names[i])\n",
    "#         print(re_names)\n",
    "for i in range(len(names)):\n",
    "    if names[i] not in re_names:\n",
    "        re_names.append(names[i])\n",
    "        print(re_names)\n",
    "\n",
    "# can use set method to get exactly what we want"
   ]
  },
  {
   "cell_type": "markdown",
   "metadata": {},
   "source": [
    "### List Comprehensions <br>\n",
    "<p>Creating a quickly generated list to work with<br>*result*  = [*transform*    *iteration*         *filter*     ]</p>"
   ]
  },
  {
   "cell_type": "markdown",
   "metadata": {},
   "source": [
    "##### In a list comprehension we have a few pieces:\n",
    "1. The first is the counter/ variable - IN this the variable is x\n",
    "2. then we have a transform for the variable\n",
    "3. The finale part of a list comp is called the condition\n",
    "\n",
    "```python\n",
    "    [variable, transform, condition]\n",
    "```"
   ]
  },
  {
   "cell_type": "code",
   "execution_count": null,
   "metadata": {},
   "outputs": [],
   "source": [
    "# number comprehension\n",
    "\n",
    "# With a regular for loop\n",
    "\n",
    "\n",
    "# IN a list comprehension we have a few pieces:\n",
    "# The first is the counter/ variable - IN this the variable is x\n",
    "# Then we have a transform for the variable \n",
    "# The finale part of a list comp is called the condition\n",
    "#[variable, transform, condition]\n",
    "\n",
    "\n",
    "\n"
   ]
  },
  {
   "cell_type": "markdown",
   "metadata": {},
   "source": [
    "There are a few benefits to using List comprehensions. The most obvious would be that we now have shorter code to work with instead of using 3+ lines of code in the for loop variant.\n",
    "\n",
    "Another is an added benefit to memory usage. Since the list's memory is allocated first before adding elements to it, we don't have to resize the list once we add elements to it.\n",
    "\n",
    "Lastly, list comprehensions are considered the \"pythonic\" way to write code by the PEP8 standards (Python Style Guide)"
   ]
  },
  {
   "cell_type": "code",
   "execution_count": 53,
   "metadata": {},
   "outputs": [
    {
     "name": "stdout",
     "output_type": "stream",
     "text": [
      "[1, 4, 9, 16]\n",
      "[1, 4, 9, 16]\n",
      "[1, 9]\n",
      "[1, 2, 9, 4]\n"
     ]
    }
   ],
   "source": [
    "nums = [1,2,3,4]\n",
    "\n",
    "squared_nums = []\n",
    "for num in nums:\n",
    "    squared_nums.append(num**2)\n",
    "print(squared_nums)\n",
    "\n",
    "# square number comprehension\n",
    "squared_list_comp = [num**2 for num in nums]\n",
    "\n",
    "print(squared_list_comp)\n",
    "\n",
    "print([nums[i]**2 for i in range(len(nums)) if i%2==0])\n",
    "\n",
    "square_every_other = [nums[i]**2 if i%2==0 else nums[i] for i in range(len(nums))]\n",
    "print(square_every_other)\n",
    "\n",
    "a_list = []\n",
    "for i in range(len(nums)):\n",
    "    if i%2==0:\n",
    "        a_list.append(nums[i])\n",
    "        \n",
    "a_list2 = []\n",
    "for i in range(len(nums)):\n",
    "    a_list.append(nums[i] if i%2==0 else nums[i])"
   ]
  },
  {
   "cell_type": "code",
   "execution_count": 56,
   "metadata": {},
   "outputs": [
    {
     "name": "stdout",
     "output_type": "stream",
     "text": [
      "['thai', 'todd']\n",
      "['t', 'g', 't', 'b']\n"
     ]
    }
   ],
   "source": [
    "students = ['thai', 'gian', 'todd', 'ben']\n",
    "\n",
    "initials = []\n",
    "for student in students:\n",
    "    initials.append(student)\n",
    "# string comprehension\n",
    "\n",
    "\n",
    "# list comp getting first character of each string element\n",
    "first_initial = [student[0] for student in students]\n",
    "first_initial_t = [student for student in students if student[0] == 't']\n",
    "\n",
    "print(first_initial_t)\n",
    "print(first_initial)\n"
   ]
  },
  {
   "cell_type": "code",
   "execution_count": null,
   "metadata": {},
   "outputs": [],
   "source": []
  },
  {
   "cell_type": "code",
   "execution_count": null,
   "metadata": {},
   "outputs": [],
   "source": []
  },
  {
   "cell_type": "markdown",
   "metadata": {},
   "source": [
    "### Tuples <br>\n",
    "<p><b>Defined as an immutable list</b></p><br>Seperated by commas using parenthesis"
   ]
  },
  {
   "cell_type": "code",
   "execution_count": null,
   "metadata": {},
   "outputs": [],
   "source": []
  },
  {
   "cell_type": "markdown",
   "metadata": {},
   "source": [
    "##### sorted()"
   ]
  },
  {
   "cell_type": "code",
   "execution_count": null,
   "metadata": {},
   "outputs": [],
   "source": []
  },
  {
   "cell_type": "markdown",
   "metadata": {},
   "source": [
    "##### Adding values to a Tuple"
   ]
  },
  {
   "cell_type": "code",
   "execution_count": null,
   "metadata": {},
   "outputs": [],
   "source": []
  },
  {
   "cell_type": "markdown",
   "metadata": {},
   "source": [
    "## Functions"
   ]
  },
  {
   "cell_type": "markdown",
   "metadata": {},
   "source": [
    "##### User-Defined vs. Built-In Functions"
   ]
  },
  {
   "cell_type": "code",
   "execution_count": 57,
   "metadata": {},
   "outputs": [
    {
     "name": "stdout",
     "output_type": "stream",
     "text": [
      "hello world\n"
     ]
    }
   ],
   "source": [
    "# built-ins\n",
    "# print()\n",
    "# len()\n",
    "# range()\n",
    "\n",
    "# user-defined\n",
    "# syntax\n",
    "# def <name_of_func>():\n",
    "#   code indented\n",
    "def hello_world():\n",
    "    print('hello world')\n",
    "    \n",
    "hello_world()"
   ]
  },
  {
   "cell_type": "markdown",
   "metadata": {},
   "source": [
    "##### Accepting Parameters"
   ]
  },
  {
   "cell_type": "code",
   "execution_count": 61,
   "metadata": {},
   "outputs": [
    {
     "name": "stdout",
     "output_type": "stream",
     "text": [
      "Greeting khoa thai\n"
     ]
    }
   ],
   "source": [
    "# parameter is a variable that holds the value of data you pass in when calling your func\n",
    "def greet_user(user_name):\n",
    "    print(f'Greeting {user_name}')\n",
    "\n",
    "greet_user(\"khoa thai\")"
   ]
  },
  {
   "cell_type": "code",
   "execution_count": 65,
   "metadata": {},
   "outputs": [
    {
     "name": "stdout",
     "output_type": "stream",
     "text": [
      "Greetins khoa thai\n"
     ]
    }
   ],
   "source": [
    "def greet_full_name(first_name, last_name):\n",
    "    print(f'Greetins {first_name} {last_name}')\n",
    "    \n",
    "greet_full_name('khoa', 'thai')"
   ]
  },
  {
   "cell_type": "code",
   "execution_count": null,
   "metadata": {},
   "outputs": [],
   "source": [
    "# () to execute function\n",
    "greet_user()"
   ]
  },
  {
   "cell_type": "markdown",
   "metadata": {},
   "source": [
    "##### Default Parameters"
   ]
  },
  {
   "cell_type": "code",
   "execution_count": 69,
   "metadata": {},
   "outputs": [
    {
     "name": "stdout",
     "output_type": "stream",
     "text": [
      "iron man can fly\n",
      "spiderman can shoot webs\n"
     ]
    }
   ],
   "source": [
    "def super_hero(hero_name, super_power = 'fly'):\n",
    "    print(f'{hero_name} can {super_power}')\n",
    "    \n",
    "super_hero('iron man')\n",
    "super_hero('spiderman', 'shoot webs')"
   ]
  },
  {
   "cell_type": "markdown",
   "metadata": {},
   "source": [
    "##### Making an Argument Optional"
   ]
  },
  {
   "cell_type": "code",
   "execution_count": 72,
   "metadata": {},
   "outputs": [
    {
     "name": "stdout",
     "output_type": "stream",
     "text": [
      "Greetings dylan l smith\n",
      "Greetings sean  currie\n"
     ]
    }
   ],
   "source": [
    "def greet_full_name(first_name, last_name, middle_initial=''):\n",
    "    print(f'Greetings {first_name} {middle_initial} {last_name}')\n",
    "    \n",
    "greet_full_name('dylan', 'smith', 'l')\n",
    "greet_full_name('sean','currie')\n"
   ]
  },
  {
   "cell_type": "markdown",
   "metadata": {},
   "source": [
    "##### Keyword Arguments"
   ]
  },
  {
   "cell_type": "code",
   "execution_count": null,
   "metadata": {},
   "outputs": [],
   "source": [
    "# last_name='Max', first_name='Smith' in the function call\n",
    "\n",
    "# see above"
   ]
  },
  {
   "cell_type": "markdown",
   "metadata": {},
   "source": [
    "# Creating a start, stop, step function"
   ]
  },
  {
   "cell_type": "code",
   "execution_count": null,
   "metadata": {},
   "outputs": [],
   "source": []
  },
  {
   "cell_type": "markdown",
   "metadata": {},
   "source": [
    "##### Returning Values"
   ]
  },
  {
   "cell_type": "code",
   "execution_count": null,
   "metadata": {},
   "outputs": [],
   "source": []
  },
  {
   "cell_type": "markdown",
   "metadata": {},
   "source": [
    "##### *args"
   ]
  },
  {
   "cell_type": "code",
   "execution_count": null,
   "metadata": {},
   "outputs": [],
   "source": []
  },
  {
   "cell_type": "markdown",
   "metadata": {},
   "source": [
    "##### Docstring"
   ]
  },
  {
   "cell_type": "code",
   "execution_count": null,
   "metadata": {},
   "outputs": [],
   "source": []
  },
  {
   "cell_type": "markdown",
   "metadata": {},
   "source": [
    "##### Using a User Function in a Loop"
   ]
  },
  {
   "cell_type": "code",
   "execution_count": null,
   "metadata": {},
   "outputs": [],
   "source": []
  },
  {
   "cell_type": "markdown",
   "metadata": {},
   "source": [
    "## Function Exercise <br>\n",
    "<p>Write a function that loops through a list of first_names and a list of last_names, combines the two and return a list of full_names</p>"
   ]
  },
  {
   "cell_type": "code",
   "execution_count": null,
   "metadata": {},
   "outputs": [],
   "source": [
    "first_name = ['John', 'Evan', 'Jordan', 'Max']\n",
    "last_name = ['Smith', 'Smith', 'Williams', 'Bell']\n",
    "\n",
    "# Output: ['John Smith', 'Evan Smith', 'Jordan Williams', 'Max Bell']\n"
   ]
  },
  {
   "cell_type": "markdown",
   "metadata": {},
   "source": [
    "## Scope <br>\n",
    "<p>Scope refers to the ability to access variables, different types of scope include:<br>a) Global<br>b) Function (local)<br>c) Class (local)</p>"
   ]
  },
  {
   "cell_type": "code",
   "execution_count": null,
   "metadata": {},
   "outputs": [],
   "source": []
  },
  {
   "cell_type": "markdown",
   "metadata": {},
   "source": [
    "# Exercises"
   ]
  },
  {
   "cell_type": "markdown",
   "metadata": {},
   "source": [
    "## Exercise 1 <br>\n",
    "<p>Given a list as a parameter,write a function that returns a list of numbers that are less than ten</b></i></p><br>\n",
    "<p> For example: Say your input parameter to the function is [1,11,14,5,8,9]...Your output should [1,5,8,9]</p>"
   ]
  },
  {
   "cell_type": "code",
   "execution_count": 96,
   "metadata": {},
   "outputs": [
    {
     "ename": "SyntaxError",
     "evalue": "expected 'else' after 'if' expression (1689313297.py, line 16)",
     "output_type": "error",
     "traceback": [
      "\u001b[0;36m  Cell \u001b[0;32mIn[96], line 16\u001b[0;36m\u001b[0m\n\u001b[0;31m    listLess = [new_l_2.append(list[i]) if list[i] < 10 for i in range(len(list)) ]\u001b[0m\n\u001b[0m                ^\u001b[0m\n\u001b[0;31mSyntaxError\u001b[0m\u001b[0;31m:\u001b[0m expected 'else' after 'if' expression\n"
     ]
    }
   ],
   "source": [
    "# Use the following list - [1,11,14,5,8,9]\n",
    "\n",
    "l_1 = [1,11,14,5,8,9]\n",
    "l_2 = [1,4,2,5,34,25]\n",
    "\n",
    "def list_less_10(list):\n",
    "    new_l_1 = []\n",
    "    for i in range(len(list)):\n",
    "        if list[i] < 10:\n",
    "            new_l_1.append(list[i])\n",
    "    print(new_l_1)\n",
    "\n",
    "list_less_10(l_2)\n",
    "\n",
    "new_l_2 = []\n",
    "listLess = [new_l_2.append(list[i]) if list[i] < 10 else for i in range(len(list)) ]"
   ]
  },
  {
   "cell_type": "markdown",
   "metadata": {},
   "source": [
    "## Exercise 2 <br>\n",
    "<p>Write a function that takes in two lists and returns the two lists merged together and sorted<br>\n",
    "<b><i>Hint: You can use the .sort() method</i></b></p>"
   ]
  },
  {
   "cell_type": "code",
   "execution_count": 89,
   "metadata": {},
   "outputs": [
    {
     "data": {
      "text/plain": [
       "[1, 2, 3, 3, 4, 4, 5, 5, 6, 6, 7, 8, 10]"
      ]
     },
     "execution_count": 89,
     "metadata": {},
     "output_type": "execute_result"
    }
   ],
   "source": [
    "l_1 = [1,2,3,4,5,6]\n",
    "l_2 = [3,4,5,6,7,8,10]\n",
    "\n",
    "def merged_list(list1, list2):\n",
    "    merged = []\n",
    "    for e in list1:\n",
    "        merged.append(e)\n",
    "    for e2 in list2:\n",
    "        merged.append(e2)\n",
    "    merged.sort()\n",
    "    return merged\n",
    "\n",
    "merged_list(l_1, l_2)\n"
   ]
  },
  {
   "cell_type": "code",
   "execution_count": null,
   "metadata": {},
   "outputs": [],
   "source": []
  }
 ],
 "metadata": {
  "kernelspec": {
   "display_name": "Python 3 (ipykernel)",
   "language": "python",
   "name": "python3"
  },
  "language_info": {
   "codemirror_mode": {
    "name": "ipython",
    "version": 3
   },
   "file_extension": ".py",
   "mimetype": "text/x-python",
   "name": "python",
   "nbconvert_exporter": "python",
   "pygments_lexer": "ipython3",
   "version": "3.10.9"
  }
 },
 "nbformat": 4,
 "nbformat_minor": 2
}
